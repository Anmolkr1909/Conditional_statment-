{
  "nbformat": 4,
  "nbformat_minor": 0,
  "metadata": {
    "colab": {
      "provenance": [],
      "authorship_tag": "ABX9TyMyk4QSzOUB+tes9dDtH0g3",
      "include_colab_link": true
    },
    "kernelspec": {
      "name": "python3",
      "display_name": "Python 3"
    },
    "language_info": {
      "name": "python"
    }
  },
  "cells": [
    {
      "cell_type": "markdown",
      "metadata": {
        "id": "view-in-github",
        "colab_type": "text"
      },
      "source": [
        "<a href=\"https://colab.research.google.com/github/Anmolkr1909/Conditional_statment-/blob/main/conditional_statement.ipynb\" target=\"_parent\"><img src=\"https://colab.research.google.com/assets/colab-badge.svg\" alt=\"Open In Colab\"/></a>"
      ]
    },
    {
      "cell_type": "markdown",
      "source": [
        "# Conditional_statement (mini_project)\n"
      ],
      "metadata": {
        "id": "NDGcrFZ4vfgY"
      }
    },
    {
      "cell_type": "markdown",
      "source": [
        "\n",
        "\n",
        "---\n",
        "\n"
      ],
      "metadata": {
        "id": "HTg4WvcJw2ye"
      }
    },
    {
      "cell_type": "markdown",
      "source": [
        "35) Movie ticket price checker\n",
        "*  Ticket price chane based on age"
      ],
      "metadata": {
        "id": "ZixjtIGBvvnU"
      }
    },
    {
      "cell_type": "code",
      "source": [
        "# Movie Ticket Price Checker\n",
        "\n",
        "# Step 1: Ask the user to enter their age\n",
        "age = int(input(\"Enter your age: \"))\n",
        "\n",
        "if age < 5:\n",
        "    price = 0\n",
        "    print(\"Ticket is Free! Enjoy your movie \")\n",
        "elif age >= 5 and age < 13:\n",
        "    price = 100\n",
        "    print(\"Child Ticket Price: ₹100\")\n",
        "elif age >= 13 and age < 60:\n",
        "    price = 200\n",
        "    print(\"Adult Ticket Price: ₹200\")\n",
        "else:\n",
        "    price = 150\n",
        "    print(\"Senior Citizen Ticket Price: ₹150\")\n",
        "\n",
        "\n",
        "if price > 0:\n",
        "    print(f\"Please pay ₹{price} at the counter.\")\n"
      ],
      "metadata": {
        "colab": {
          "base_uri": "https://localhost:8080/"
        },
        "id": "NCks12tPxpMo",
        "outputId": "6c2a561c-ba1f-4041-981a-8f0253604c2e"
      },
      "execution_count": null,
      "outputs": [
        {
          "output_type": "stream",
          "name": "stdout",
          "text": [
            "Enter your age: 10\n",
            "Child Ticket Price: ₹100\n",
            "Please pay ₹100 at the counter.\n"
          ]
        }
      ]
    },
    {
      "cell_type": "markdown",
      "source": [
        "\n",
        "\n",
        "---\n",
        "\n"
      ],
      "metadata": {
        "id": "SOE10F9E_Q1C"
      }
    },
    {
      "cell_type": "markdown",
      "source": [
        " 36) Electricity Bill Calculator\n",
        " *   Charges depend on units used\n",
        "\n",
        "\n",
        "\n"
      ],
      "metadata": {
        "id": "mkYbmznD8XpX"
      }
    },
    {
      "cell_type": "code",
      "source": [
        "units = 250\n",
        "\n",
        "\n",
        "if units <= 100:\n",
        "    print(\"Your bill is ₹0 (Free up to 100 units) \")\n",
        "\n",
        "elif units <= 200:\n",
        "   bill = (units - 100) * 5\n",
        "\n",
        "   print(f\"Your bill is ₹{bill}\")\n",
        "\n",
        "\n",
        "else:\n",
        "    bill = (100 * 5) + (units - 200) * 10\n",
        "    print(f\"Your bill is ₹{bill}\")"
      ],
      "metadata": {
        "colab": {
          "base_uri": "https://localhost:8080/"
        },
        "id": "1sVoQ5iA-EFW",
        "outputId": "0877a290-aaab-4548-968d-18d80dc98ded"
      },
      "execution_count": null,
      "outputs": [
        {
          "output_type": "stream",
          "name": "stdout",
          "text": [
            "Your bill is ₹1000\n"
          ]
        }
      ]
    },
    {
      "cell_type": "markdown",
      "source": [
        "\n",
        "\n",
        "---\n",
        "\n"
      ],
      "metadata": {
        "id": "chRyiJCx_Pzw"
      }
    },
    {
      "cell_type": "markdown",
      "source": [
        "37) Weather App Suggestion\n",
        " *   Suggest activity based on temperature"
      ],
      "metadata": {
        "id": "SbFEOYq2-faI"
      }
    },
    {
      "cell_type": "code",
      "source": [
        "temperature = 35\n",
        "\n",
        "\n",
        "if temperature < 10:\n",
        "    print(\"It's cold  — Wear a jacket\")\n",
        "elif temperature < 25:\n",
        "    print(\"Weather is nice — Go for a walk\")\n",
        "elif temperature < 40:\n",
        "    print(\"It's hot — Stay hydrated\")\n",
        "else:\n",
        "    print(\"Extreme heat — Avoid going outside\")\n"
      ],
      "metadata": {
        "colab": {
          "base_uri": "https://localhost:8080/"
        },
        "id": "khNlYGIL-xeO",
        "outputId": "654f97bc-c277-485a-f339-431b3c4b5450"
      },
      "execution_count": null,
      "outputs": [
        {
          "output_type": "stream",
          "name": "stdout",
          "text": [
            "It's hot — Stay hydrated\n"
          ]
        }
      ]
    },
    {
      "cell_type": "markdown",
      "source": [
        "\n",
        "\n",
        "---\n",
        "\n"
      ],
      "metadata": {
        "id": "GS_ZJV7V_TV3"
      }
    }
  ]
}